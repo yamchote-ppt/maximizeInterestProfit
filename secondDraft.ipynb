{
 "cells": [
  {
   "cell_type": "markdown",
   "metadata": {},
   "source": [
    "# Setting up"
   ]
  },
  {
   "cell_type": "markdown",
   "metadata": {},
   "source": [
    "try installing in terminal"
   ]
  },
  {
   "cell_type": "code",
   "execution_count": 1,
   "metadata": {},
   "outputs": [],
   "source": [
    "# !conda install -c conda-forge pyomo\n",
    "# !conda install -c conda-forge ipopt glpk"
   ]
  },
  {
   "cell_type": "markdown",
   "metadata": {},
   "source": [
    "Assume we have two banks\n",
    "\n",
    "- A: 0.03 for (0, 10000) -> 0.015 for (10000,50000) -> 0.05 for (50000, inf)\n",
    "- B: 0.005 for (0, 100000) -> 0.05 for (100000, 500000) -> 0.005 for (500000, inf)\n",
    "\n",
    "# Idea\n",
    "\n",
    "For example A: 0.03 for (0, 10000) -> 0.015 for (10000,50000) -> 0.05 for (50000, inf)\n",
    "For Bank A, formulate the amount of asset by $(\\delta_{11},\\delta_{12},\\delta_{13})$ as follows:\n",
    "$$\n",
    "f_A(\\delta_{11},\\delta_{12},\\delta_{13}) = 0.03\\delta_{11} + 0.015\\delta_{12} + 0.005\\delta_{13}\n",
    "$$\n",
    "subject to\n",
    "$$\n",
    "10000 w_{11} \\leq \\delta_{11} \\leq 10000\\\\\n",
    "40000 w_{12} \\leq \\delta_{12} \\leq 40000w_{11}\\\\\n",
    "0 \\leq \\delta_{13} \\leq Xw_{12}\n",
    "$$\n",
    "where $X$ is principal, and $w_{11}, w_{12} \\in \\{0,1\\}$\n",
    "\n",
    "The objective function is maximizing $f_A + f_B$"
   ]
  },
  {
   "cell_type": "code",
   "execution_count": 232,
   "metadata": {},
   "outputs": [],
   "source": [
    "import pyomo.environ as pyo\n",
    "import re\n",
    "\n",
    "def getWeightName(inputDict):\n",
    "    nameVars = []\n",
    "    for bankName in inputDict:\n",
    "        for i in range(len(inputDict[bankName][1])):\n",
    "            nameVars.append(bankName+str(i+1))\n",
    "    return nameVars\n",
    "\n",
    "def getDeltaName(inputDict):\n",
    "    nameVars = []\n",
    "    for bankName in inputDict:\n",
    "        for i in range(len(inputDict[bankName][1])+1):\n",
    "            nameVars.append(bankName+str(i+1))\n",
    "    return nameVars\n",
    "\n",
    "def getDeltaLast(inputDict,principle):\n",
    "    nameVars = []\n",
    "    for bankName in inputDict:\n",
    "        nameVars.append((bankName+str(len(inputDict[bankName][1])+1),principle))\n",
    "    return nameVars\n",
    "\n",
    "def getBankConstraint(inputDict):\n",
    "    nameVars = []\n",
    "    bounds   = []\n",
    "    for bankName in inputDict:\n",
    "        for i in range(len(inputDict[bankName][1])):\n",
    "            nameVars.append(bankName+str(i+1))\n",
    "        bounds += [x[0]-x[1] for x in zip(inputDict[bankName][1],[0] + inputDict[bankName][1][:-1])]\n",
    "    return list(zip(nameVars, bounds))\n",
    "\n",
    "def rule_lower(m, c, bound):\n",
    "    return m.w[c]*bound <= m.delta[c]\n",
    "\n",
    "def rule_upper(m, c, bound):\n",
    "    if int(c[-1])-1 == 0:\n",
    "        return m.delta[c] <= bound\n",
    "    else:\n",
    "        return m.delta[c] <= bound*m.w[c[:-1] + str(int(c[-1])-1)]\n",
    "    \n",
    "def rule_upper_last(m, c, principle):\n",
    "    if int(c[-1])-1 == 0:\n",
    "        return m.delta[c] <= principle\n",
    "    else:\n",
    "        return m.delta[c] <= principle*m.w[c[:-1] + str(int(c[-1])-1)]\n",
    "\n",
    "def getInterestRate(inputDict):\n",
    "    rate = []\n",
    "    for bankName in inputDict:\n",
    "        rate += inputDict[bankName][0]\n",
    "    return rate\n",
    "\n",
    "def printReport(m):\n",
    "    print(f\"Maximum interest = {pyo.value(m.interest)}\")\n",
    "    print(f\"Average interest rate = {pyo.value(m.interest)/principle *100:.2f}%\")\n",
    "    print(':==============================:')\n",
    "    asset_value = {}\n",
    "    interest = {}\n",
    "    for rate, bankName in zip(getInterestRate(inputDict),getDeltaName(inputDict)):\n",
    "        key = re.match(r'(.+)(\\d+)',bankName).group(1)\n",
    "        asset_value[key] = asset_value.get(key,0) + pyo.value(m.delta[bankName])\n",
    "        interest[key] = interest.get(key,0) + pyo.value(rate*m.delta[bankName])\n",
    "    # print(asset_value)\n",
    "    # print(interest)\n",
    "    print(f'{\"\":10s} {\"amount\":^12s} {\"interest\":^12s}')\n",
    "    for key in asset_value:\n",
    "        print(f'{key:>10s}:{asset_value[key]:^12.0f} {interest[key]:^12.0f}')\n",
    "    print(':==============================:')"
   ]
  },
  {
   "cell_type": "markdown",
   "metadata": {},
   "source": [
    "given input: dictionary in the forms of\n",
    "\n",
    "`{\n",
    "    bankName: ([rate1, rate2, ..., rate(k+1)],[bound1, bound2, ..., bound(k)])\n",
    "}`"
   ]
  },
  {
   "cell_type": "code",
   "execution_count": null,
   "metadata": {},
   "outputs": [],
   "source": [
    "inputDict = {\n",
    "    'LH':([0.0025, 0.0175,0.0555,0.015,0.0025,0],[100000, 900000, 1000000, 3000000, 100000000]),\n",
    "    'KPP':([0.02,0.04,0.02,0.0155,0.005],[5000,10000,50000,1500000]),\n",
    "    'Dime':([0.03,0.015,0.005],[10000,1000000]),\n",
    "    'CIMBChill': ([0.005,0.018,0.0288,0.002],[10000,50000,100000]),\n",
    "    'Kept':([0.0175],[]),\n",
    "    'TTB':([0.022,0.016,0.012],[100000,1000000]),\n",
    "    'Alpha':([0.02,0.007],[500000]),\n",
    "    'CIMBSpeed':([0.008,0.0188],[100000]),\n",
    "}"
   ]
  },
  {
   "cell_type": "code",
   "execution_count": 233,
   "metadata": {},
   "outputs": [
    {
     "name": "stdout",
     "output_type": "stream",
     "text": [
      "Maximum interest = 2360.0\n",
      "Average interest rate = 0.05%\n",
      ":==============================:\n",
      "              amount      interest  \n",
      "        LH:     0            0      \n",
      "       KPP:   10000         300     \n",
      "      Dime:   10000         300     \n",
      " CIMBChill:     0            0      \n",
      "      Kept:     0            0      \n",
      "       TTB:   80000         1760    \n",
      "     Alpha:     0            0      \n",
      " CIMBSpeed:     0            0      \n",
      ":==============================:\n"
     ]
    }
   ],
   "source": [
    "def optimize(principle,inputDict,verbose=False):\n",
    "    m = pyo.ConcreteModel()\n",
    "\n",
    "    m.w     = pyo.Var(getWeightName(inputDict),\n",
    "                    initialize=0,within=pyo.Binary)\n",
    "    m.delta = pyo.Var(getDeltaName(inputDict),\n",
    "                    bounds=(0,principle))\n",
    "    m.lower  = pyo.Constraint(getBankConstraint(inputDict),rule = rule_lower)\n",
    "    m.upper  = pyo.Constraint(getBankConstraint(inputDict),rule = rule_upper)\n",
    "    m.last   = pyo.Constraint(getDeltaLast(inputDict,principle),rule = rule_upper_last)\n",
    "    m.principle   = pyo.Constraint(expr = sum(m.delta[x] for x in getDeltaName(inputDict)) == principle)\n",
    "    m.interest = pyo.Objective(expr=sum(x[0]*m.delta[x[1]] for x in zip(getInterestRate(inputDict),getDeltaName(inputDict))),sense = pyo.maximize)\n",
    "    pyo.SolverFactory(\"glpk\").solve(m)\n",
    "    \n",
    "    if verbose:\n",
    "        printReport(m)\n",
    "        \n",
    "    return m\n",
    "\n",
    "m = optimize(100000,inputDict,True)"
   ]
  },
  {
   "cell_type": "code",
   "execution_count": null,
   "metadata": {},
   "outputs": [],
   "source": []
  }
 ],
 "metadata": {
  "kernelspec": {
   "display_name": "base",
   "language": "python",
   "name": "python3"
  },
  "language_info": {
   "codemirror_mode": {
    "name": "ipython",
    "version": 3
   },
   "file_extension": ".py",
   "mimetype": "text/x-python",
   "name": "python",
   "nbconvert_exporter": "python",
   "pygments_lexer": "ipython3",
   "version": "3.12.4"
  }
 },
 "nbformat": 4,
 "nbformat_minor": 2
}
